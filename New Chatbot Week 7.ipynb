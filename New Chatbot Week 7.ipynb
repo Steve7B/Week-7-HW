{
 "cells": [
  {
   "cell_type": "code",
   "execution_count": 17,
   "metadata": {},
   "outputs": [],
   "source": [
    "def name():\n",
    "    Name = input(\"What is your name? \")\n",
    "    print(\"Hello \" +Name+\", It's nice to meet you\")\n",
    "def food():\n",
    "    Food = input(\"What is your favorite food? \")\n",
    "    if Food == (\"burgers\"):\n",
    "        print(\"me too\")\n",
    "    else:\n",
    "        print(+Food+ 'is great but I prefer burgers.')\n",
    "def sports():\n",
    "    Sports=input('What is your favorite sport? ')\n",
    "    if Sports == (\"soccer\"):\n",
    "        print(\"Me too!\")\n",
    "    else:\n",
    "        print('Wow ' +Sports+ ' is a great sport, but I prefer soccer.')\n",
    "def feeling():\n",
    "    Feeling = input(\"How are you feeling today? \")\n",
    "    if Feeling == (\"Happy\" or \"Excited\"):\n",
    "        print(\"I'm feeling\" + Feeling + \"too!\")\n",
    "    else:\n",
    "        print(\"Why are you feeling \" +Feeling+ \".\")"
   ]
  },
  {
   "cell_type": "code",
   "execution_count": 19,
   "metadata": {},
   "outputs": [
    {
     "name": "stdout",
     "output_type": "stream",
     "text": [
      "What is your name?steve\n",
      "Hello steve, It's nice to meet you\n",
      "What is your favorite food?burgers\n",
      "me too\n",
      "What is your favorite sport?soccer\n",
      "Me too!\n"
     ]
    }
   ],
   "source": [
    "def favorites():\n",
    "    name()\n",
    "    food()\n",
    "    sports()\n",
    "favorites()"
   ]
  },
  {
   "cell_type": "code",
   "execution_count": null,
   "metadata": {},
   "outputs": [],
   "source": []
  }
 ],
 "metadata": {
  "kernelspec": {
   "display_name": "Python 3",
   "language": "python",
   "name": "python3"
  },
  "language_info": {
   "codemirror_mode": {
    "name": "ipython",
    "version": 3
   },
   "file_extension": ".py",
   "mimetype": "text/x-python",
   "name": "python",
   "nbconvert_exporter": "python",
   "pygments_lexer": "ipython3",
   "version": "3.8.3"
  }
 },
 "nbformat": 4,
 "nbformat_minor": 4
}
